{
 "cells": [
  {
   "cell_type": "code",
   "execution_count": null,
   "metadata": {},
   "outputs": [],
   "source": []
  },
  {
   "cell_type": "markdown",
   "metadata": {},
   "source": [
    "# Introduction to Linear Programming"
   ]
  },
  {
   "cell_type": "markdown",
   "metadata": {},
   "source": [
    "## What is Linear Programming?"
   ]
  },
  {
   "cell_type": "markdown",
   "metadata": {},
   "source": [
    "Linear programming deals with the maximization (or minimization) of a linear objective function, subject to linear constraints, where all the decision variables are continuous. That is, no discrete variables are allowed. The linear objective and constraints must consist of linear expressions."
   ]
  },
  {
   "cell_type": "markdown",
   "metadata": {},
   "source": [
    "## What is a linear expression?\n",
    "\n",
    "A linear expression is a scalar product, for example, the expression:\n",
    "\n",
    "∑aixi\n",
    " \n",
    "where a_i represents constants (that is, data) and x_i represents variables or unknowns.\n",
    "\n",
    "Such an expression can also be written in short form as a vector product:\n",
    "\n",
    "tAX\n",
    " \n",
    "where  A  is the vector of constants and  X  is the vector of variables.\n",
    "\n",
    "Note: Nonlinear terms that involve variables (such as x and y) are not allowed in linear expressions. Terms that are not allowed in linear expressions include\n",
    "\n",
    "multiplication of two or more variables (such as x times y),\n",
    "quadratic and higher order terms (such as x squared or x cubed),\n",
    "exponents,\n",
    "logarithms,\n",
    "absolute values."
   ]
  },
  {
   "cell_type": "markdown",
   "metadata": {},
   "source": [
    "## What is a linear constraint?\n",
    "\n",
    "A linear constraint is expressed by an equality or inequality as follows:\n",
    "\n",
    "- linear_expression=linear_expression\n",
    "\n",
    "- linear_expression≤linear_expression \n",
    "\n",
    "- linear_expression≥linear_expression \n",
    "\n",
    "Any linear constraint can be rewritten as one or two expressions of the type linear expression is less than or equal to zero.\n",
    "\n",
    "Note that strict inequality operators (that is,  >  and  < ) are not allowed in linear constraints."
   ]
  },
  {
   "cell_type": "markdown",
   "metadata": {},
   "source": [
    "## What is a continuous variable?¶"
   ]
  },
  {
   "cell_type": "markdown",
   "metadata": {},
   "source": [
    "A variable (or decision variable) is an unknown of the problem. Continuous variables are variables the set of real numbers (or an interval).\n",
    "\n",
    "Restrictions on their values that create discontinuities, for example a restriction that a variable should take integer values, are not allowed."
   ]
  },
  {
   "cell_type": "markdown",
   "metadata": {},
   "source": [
    "## Symbolic representation of an LP"
   ]
  },
  {
   "cell_type": "markdown",
   "metadata": {},
   "source": [
    "A typical symbolic representation of a Linear Programming is as follows:\n",
    "\n",
    "minimize∑cixi\n",
    "\n",
    "subject to: \n",
    "\n",
    "a11x1+a12x2...+a1nxn≥b1 a21x1+a22x2...+a2nxn≥b2... am1x1+am2x2...+amnxn≥bmx1,x2...xn≥0 \n",
    "\n",
    "This can be written in a concise form using matrices and vectors as:\n",
    "\n",
    "min Ctx\n",
    "\n",
    "s. t. Ax≥Bx≥0 \n",
    "\n",
    "Where  x  denotes the vector of variables with size  n ,  A  denotes the matrix of constraint coefficients, with  m  rows and  n  columns and  B  is a vector of numbers with size  m ."
   ]
  },
  {
   "cell_type": "markdown",
   "metadata": {},
   "source": [
    "![](1.png)"
   ]
  },
  {
   "cell_type": "markdown",
   "metadata": {},
   "source": [
    "# Example: a production problem\n",
    "\n",
    "In this topic, you’ll analyze a simple production problem in terms of decision variables, the objective function, and constraints.\n",
    "\n",
    "You’ll learn how to write an LP formulation of this problem, and how to construct a graphical representation of the model. \n",
    "\n",
    "You’ll also learn what feasible, optimal, infeasible, and unbounded mean in the context of LP."
   ]
  },
  {
   "cell_type": "markdown",
   "metadata": {},
   "source": [
    "## Problem description: telephone production\n",
    "\n",
    "A telephone company produces and sells two kinds of telephones, namely desk phones and cellular phones.\n",
    "\n",
    "Each type of phone is assembled and painted by the company. The objective is to maximize profit, and the company has to produce at least 100 of each type of phone.\n",
    "\n",
    "There are limits in terms of the company’s production capacity, and the company has to calculate the optimal number of each type of phone to produce, \n",
    "while not exceeding the capacity of the plant."
   ]
  },
  {
   "cell_type": "markdown",
   "metadata": {},
   "source": [
    "## Writing a descriptive model\n",
    "\n",
    "It is good practice to start with a descriptive model before attempting to write a mathematical model. \n",
    "In order to come up with a descriptive model, you should consider what the decision variables, objectives, and constraints for the business problem are, and write these down in words.\n",
    "\n",
    "In order to come up with a descriptive model, consider the following questions:\n",
    "\n",
    "- What are the decision variables?\n",
    "- What is the objective?\n",
    "- What are the constraints?"
   ]
  },
  {
   "cell_type": "markdown",
   "metadata": {},
   "source": [
    "## Telephone production: a descriptive model\n",
    "\n",
    "A possible descriptive model of the telephone production problem is as follows:\n",
    "\n",
    "- Decision variables:\n",
    "  - Number of desk phones produced (DeskProduction)\n",
    "  - Number of cellular phones produced (CellProduction)\n",
    "- Objective: Maximize profit\n",
    "- Constraints:\n",
    "  - The DeskProduction should be greater than or equal to 100.\n",
    "  - The CellProduction should be greater than or equal to 100.\n",
    "  - The assembly time for DeskProduction plus the assembly time for CellProduction should not exceed 400 hours.\n",
    "  - The painting time for DeskProduction plus the painting time for CellProduction should not exceed 490 hours."
   ]
  },
  {
   "cell_type": "markdown",
   "metadata": {},
   "source": [
    "## Writing a mathematical model \n",
    "Convert the descriptive model into a mathematical model:\n",
    "\n",
    "- Use the two decision variables DeskProduction and CellProduction\n",
    "- Use the data given in the problem description (remember to convert minutes to hours where appropriate)\n",
    "- Write the objective as a mathematical expression\n",
    "- Write the constraints as mathematical expressions (use “=”, “<=”, or “>=”, and name the constraints to describe their purpose)\n",
    "- Define the domain for the decision variables"
   ]
  },
  {
   "cell_type": "markdown",
   "metadata": {},
   "source": [
    "## Telephone production: a mathematical model\n",
    "\n",
    "To express the last two constraints, we model assembly time and painting time as linear combinations of the two productions, resulting in the following mathematical model:\n",
    "\n",
    "maximize:  12 desk_production+20 cell_production \n",
    "\n",
    "subject to:  \n",
    "- desk_production>=100  \n",
    "- cell_production>=100  \n",
    "- 0.2 desk_production+0.4 cell_production<=400  \n",
    "- 0.5 desk_production+0.4 cell_production<=490"
   ]
  },
  {
   "cell_type": "markdown",
   "metadata": {},
   "source": [
    "## Using DOcplex to formulate the mathematical model in Python\n",
    "Use the DOcplex Python library to write the mathematical model in Python. This is done in four steps:\n",
    "\n",
    "- create a instance of docplex.mp.Model to hold all model objects\n",
    "- create decision variables,\n",
    "- create linear constraints,\n",
    "finally, define the objective."
   ]
  },
  {
   "cell_type": "code",
   "execution_count": 3,
   "metadata": {},
   "outputs": [],
   "source": [
    "import cplex\n",
    "from docplex.mp.model import Model"
   ]
  },
  {
   "cell_type": "code",
   "execution_count": 4,
   "metadata": {},
   "outputs": [],
   "source": [
    "# create one model instance, with a name\n",
    "m = Model(name='telephone_production')"
   ]
  },
  {
   "cell_type": "markdown",
   "metadata": {},
   "source": [
    "**Define the decision variables**\n",
    "\n",
    "- The continuous variable desk represents the production of desk telephones.\n",
    "- The continuous variable cell represents the production of cell phonesc"
   ]
  },
  {
   "cell_type": "code",
   "execution_count": 6,
   "metadata": {},
   "outputs": [],
   "source": [
    "# by default, all variables in Docplex have a lower bound of 0 and infinite upper bound\n",
    "desk = m.continuous_var(name='desk')\n",
    "cell = m.continuous_var(name='cell')"
   ]
  },
  {
   "cell_type": "markdown",
   "metadata": {},
   "source": [
    "**Set up the constraints**\n",
    "- Desk and cell phone must both be greater than 100\n",
    "- Assembly time is limited\n",
    "- Painting time is limited."
   ]
  },
  {
   "cell_type": "code",
   "execution_count": 7,
   "metadata": {},
   "outputs": [],
   "source": [
    "# write constraints\n",
    "# constraint #1: desk production is greater than 100\n",
    "m.add_constraint(desk >= 100)\n",
    "\n",
    "# constraint #2: cell production is greater than 100\n",
    "m.add_constraint(cell >= 100)\n",
    "\n",
    "# constraint #3: assembly time limit\n",
    "ct_assembly = m.add_constraint( 0.2 * desk + 0.4 * cell <= 400)\n",
    "\n",
    "# constraint #4: paiting time limit\n",
    "ct_painting = m.add_constraint( 0.5 * desk + 0.4 * cell <= 490)"
   ]
  },
  {
   "cell_type": "markdown",
   "metadata": {},
   "source": [
    "**Express the objective**\n",
    "We want to maximize the expected revenue"
   ]
  },
  {
   "cell_type": "code",
   "execution_count": 8,
   "metadata": {},
   "outputs": [],
   "source": [
    "m.maximize(12 * desk + 20 * cell)"
   ]
  },
  {
   "cell_type": "code",
   "execution_count": 9,
   "metadata": {},
   "outputs": [
    {
     "name": "stdout",
     "output_type": "stream",
     "text": [
      "Model: telephone_production\n",
      " - number of variables: 2\n",
      "   - binary=0, integer=0, continuous=2\n",
      " - number of constraints: 4\n",
      "   - linear=4\n",
      " - parameters: defaults\n",
      " - objective: maximize\n",
      " - problem type is: LP\n"
     ]
    }
   ],
   "source": [
    "m.print_information()"
   ]
  },
  {
   "cell_type": "code",
   "execution_count": 10,
   "metadata": {},
   "outputs": [
    {
     "name": "stdout",
     "output_type": "stream",
     "text": [
      "objective: 20600.000\n",
      "  desk=300.000\n",
      "  cell=850.000\n"
     ]
    }
   ],
   "source": [
    "s = m.solve()\n",
    "m.print_solution()"
   ]
  },
  {
   "cell_type": "markdown",
   "metadata": {},
   "source": [
    "# Graphical representation of a Linear Problem\n",
    "\n",
    "A simple 2-dimensional LP (with 2 decision variables) can be represented graphically using a x- and y-axis.\n",
    "\n",
    "This is often done to demonstrate optimization concepts.\n",
    "\n",
    "To do this, follow these steps:\n",
    "\n",
    "- Assign one variable to the x-axis and the other to the y-axis.\n",
    "- Draw each of the constraints as you would draw any line in 2 dimensions.\n",
    "- Use the signs of the constraints (=, <= or >=) to determine which side of each line falls within the feasible region (allowable solutions).\n",
    "- Draw the objective function as you would draw any line in 2 dimensions, by substituting any value for the objective (for example, 12 DeskProduction + 20 CellProduction = 4000)"
   ]
  },
  {
   "cell_type": "markdown",
   "metadata": {},
   "source": [
    "![](grpahicalrep.png)"
   ]
  },
  {
   "cell_type": "markdown",
   "metadata": {},
   "source": [
    "![](optimalsolution.png)"
   ]
  },
  {
   "cell_type": "markdown",
   "metadata": {},
   "source": [
    "##"
   ]
  },
  {
   "cell_type": "markdown",
   "metadata": {},
   "source": [
    "[reference :notebook](https://ibmdecisionoptimization.github.io/tutorials/html/Linear_Programming.html?utm_source=pocket_mylist)"
   ]
  },
  {
   "cell_type": "markdown",
   "metadata": {},
   "source": []
  }
 ],
 "metadata": {
  "interpreter": {
   "hash": "876011893d5ceabec6ad6454a56f06a72c40118bf51043586458a401c93f903c"
  },
  "kernelspec": {
   "display_name": "Python 3.9.1 ('linearprogramming')",
   "language": "python",
   "name": "python3"
  },
  "language_info": {
   "codemirror_mode": {
    "name": "ipython",
    "version": 3
   },
   "file_extension": ".py",
   "mimetype": "text/x-python",
   "name": "python",
   "nbconvert_exporter": "python",
   "pygments_lexer": "ipython3",
   "version": "3.9.1"
  },
  "orig_nbformat": 4
 },
 "nbformat": 4,
 "nbformat_minor": 2
}
